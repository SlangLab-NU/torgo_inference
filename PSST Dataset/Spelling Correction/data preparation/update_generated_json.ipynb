{
 "cells": [
  {
   "cell_type": "markdown",
   "id": "57a73fe5-754d-4ec2-b08d-60dbbe680fc7",
   "metadata": {},
   "source": [
    "# **Update the generated JSON files to include multiple references**"
   ]
  },
  {
   "cell_type": "code",
   "execution_count": 7,
   "id": "1f52ee96-cd7b-4592-b255-e434167aaf90",
   "metadata": {},
   "outputs": [],
   "source": [
    "import json\n",
    "\n",
    "# Function to load JSON data from a file\n",
    "def load_json(file_path):\n",
    "    with open(file_path, 'r') as json_file:\n",
    "        data = json.load(json_file)\n",
    "    return data"
   ]
  },
  {
   "cell_type": "code",
   "execution_count": 8,
   "id": "b7e20604-48b5-4370-9344-a19914e2994c",
   "metadata": {
    "tags": []
   },
   "outputs": [],
   "source": [
    "# Function to update references in json1 based on references in json2 and save the result in json3\n",
    "def update_references(json1_file, json2_file, json3_file):\n",
    "    # Load data from json1 and json2\n",
    "    json1_data = load_json(json1_file)\n",
    "    json2_data = load_json(json2_file)\n",
    "    \n",
    "    # Create a dictionary to map prompts to references in json2\n",
    "    prompt_references = {}\n",
    "    for prompt, references in json2_data.items():\n",
    "        prompt_references[prompt] = references\n",
    "    \n",
    "    # Create json3 data by duplicating entries in json1 for each reference in json2\n",
    "    json3_data = []\n",
    "    for entry in json1_data:\n",
    "        prompt = entry['prompt']\n",
    "        if prompt in prompt_references:\n",
    "            references = prompt_references[prompt]\n",
    "            for reference in references:\n",
    "                new_entry = entry.copy()\n",
    "                new_entry['actual'] = reference\n",
    "                json3_data.append(new_entry)\n",
    "        else:\n",
    "            json3_data.append(entry)\n",
    "    \n",
    "    # Save json3 data to a file\n",
    "    with open(json3_file, 'w') as json3_file:\n",
    "        json.dump(json3_data, json3_file, indent=4)"
   ]
  },
  {
   "cell_type": "code",
   "execution_count": 9,
   "id": "acbafeb9-9ab0-46e4-bc0e-e8ba32340d2c",
   "metadata": {
    "tags": []
   },
   "outputs": [],
   "source": [
    "def main():\n",
    "    json1_file = '/work/van-speech-nlp/spelling_correction/json files/valid_data.json'\n",
    "    json2_file = '/work/van-speech-nlp/spelling_correction/json files/correctness.json'\n",
    "    json3_file = '/work/van-speech-nlp/spelling_correction/json files/updated_valid_data.json'\n",
    "    \n",
    "    # Update references in json1 and save the result in json3\n",
    "    update_references(json1_file, json2_file, json3_file)\n",
    "\n",
    "if __name__ == \"__main__\":\n",
    "    main()"
   ]
  },
  {
   "cell_type": "code",
   "execution_count": null,
   "id": "0b81977e-d90c-418d-8340-18a00f04e226",
   "metadata": {},
   "outputs": [],
   "source": []
  }
 ],
 "metadata": {
  "kernelspec": {
   "display_name": "Python 3 (ipykernel)",
   "language": "python",
   "name": "python3"
  },
  "language_info": {
   "codemirror_mode": {
    "name": "ipython",
    "version": 3
   },
   "file_extension": ".py",
   "mimetype": "text/x-python",
   "name": "python",
   "nbconvert_exporter": "python",
   "pygments_lexer": "ipython3",
   "version": "3.8.17"
  }
 },
 "nbformat": 4,
 "nbformat_minor": 5
}
